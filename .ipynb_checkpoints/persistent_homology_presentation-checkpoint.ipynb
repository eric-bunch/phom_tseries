{
 "cells": [
  {
   "cell_type": "markdown",
   "metadata": {
    "slideshow": {
     "slide_type": "slide"
    }
   },
   "source": [
    "\n",
    " <h1 style=\"font-size: 250%\">Persistent Homology and Topological Data Analysis</h1>\n",
    " <h2>With Applications and Examples in Time Series Analysis</h2>"
   ]
  },
  {
   "cell_type": "markdown",
   "metadata": {
    "slideshow": {
     "slide_type": "slide"
    }
   },
   "source": [
    "# What is topology?\n"
   ]
  },
  {
   "cell_type": "markdown",
   "metadata": {
    "slideshow": {
     "slide_type": "fragment"
    }
   },
   "source": [
    "- **The study of spaces** \n",
    "  - simplexes, manifolds, chaotic systems, fractals…\n",
    "- Applications to protein folding, data science, differential equations, chaos theory, theoretical physics...\n",
    "\n",
    "<img src='images/sphere.jpeg' width=100 style=\"display: inline-block; margin-left: 20px; margin-right: 30px\"> \n",
    "<img src='images/trefoil_knot.jpg' width=100 style=\"display: inline-block; margin-bottom: 10px;\">\n",
    "<img src='images/lorenz_attractor.png' width=150 style=\"display: inline-block; margin-bottom: 10px; margin-left: 0; margin-right: 0;\">\n",
    "<img src='images/mandelbrot.jpg' width=100 style=\"display: inline-block; margin-bottom: 10px; margin-left: 0; margin-right: 0;\">"
   ]
  },
  {
   "cell_type": "markdown",
   "metadata": {
    "slideshow": {
     "slide_type": "subslide"
    }
   },
   "source": [
    "# What is (algeraic) topology?\n",
    "\n",
    "- **The study of spaces**\n",
    "- Two spaces are “the same” if they can be continuously deformed from one to the other\n",
    "- Typically, do not study deformations directly. Instead, study properties that can be derived algebraically that respect deformations, e.g. **homology**\n",
    "\n",
    "<img src=\"images/Mug_and_Torus_morph.gif\" align=left> "
   ]
  },
  {
   "cell_type": "markdown",
   "metadata": {
    "slideshow": {
     "slide_type": "slide"
    }
   },
   "source": [
    "# What is homology?"
   ]
  },
  {
   "cell_type": "markdown",
   "metadata": {
    "slideshow": {
     "slide_type": "fragment"
    }
   },
   "source": [
    "- An algebraic construction that respects deformations"
   ]
  },
  {
   "cell_type": "markdown",
   "metadata": {
    "slideshow": {
     "slide_type": "fragment"
    }
   },
   "source": [
    "- “Counts n-dimensional holes” in the space\n",
    "  - Gives a way to determine if two spaces are different\n"
   ]
  },
  {
   "cell_type": "markdown",
   "metadata": {
    "slideshow": {
     "slide_type": "fragment"
    }
   },
   "source": [
    "- Can be constructed for any topological space, but this is unwieldy in general\n",
    "  - We restrict our attention to a nice class of topological spaces called **simplicial complexes**"
   ]
  },
  {
   "cell_type": "markdown",
   "metadata": {
    "slideshow": {
     "slide_type": "fragment"
    }
   },
   "source": [
    "<img src='images/green_torus.png' width=100 style=\"display: inline-block; margin-left: 20px; margin-right: 30px\">\n",
    "<img src='images/green_double_torus.png' width=100 style=\"display: inline-block; margin-left: 20px; margin-right: 30px\">\n",
    "<img src='images/prop_donut_equal_prop_mug.png' width=500 style=\"display: inline-block; margin-left: 20px; margin-right: 30px\">"
   ]
  },
  {
   "cell_type": "markdown",
   "metadata": {
    "slideshow": {
     "slide_type": "slide"
    }
   },
   "source": [
    "# Simplicial complexes"
   ]
  },
  {
   "cell_type": "markdown",
   "metadata": {
    "slideshow": {
     "slide_type": "subslide"
    }
   },
   "source": [
    "## Simplexes"
   ]
  },
  {
   "cell_type": "markdown",
   "metadata": {
    "slideshow": {
     "slide_type": "fragment"
    }
   },
   "source": [
    "- Building blocks for simplicial complexes. \n",
    "- Can be thought of a generalizations of a triangle to any non-negative integer dimension. \n",
    "- The **standard $k$-simplex** (or just the **$k$-simplex**) is defined by the collection of points\n",
    "\n",
    "$$\n",
    "\\{ x \\in \\mathbb{R}^{k+1} \\mid x_0  + \\cdots + x_k = 1, \\text{  and  } x_i \\geq 0 \\text{ for all } i = 0,...,k \\}.\n",
    "$$"
   ]
  },
  {
   "cell_type": "markdown",
   "metadata": {
    "slideshow": {
     "slide_type": "fragment"
    }
   },
   "source": [
    "<center>\n",
    "<img src='images/simplexes2.png' style=\"width: 50%;\">\n",
    "</center>"
   ]
  },
  {
   "cell_type": "markdown",
   "metadata": {
    "slideshow": {
     "slide_type": "subslide"
    }
   },
   "source": [
    "## Simplexes"
   ]
  },
  {
   "cell_type": "markdown",
   "metadata": {
    "slideshow": {
     "slide_type": "fragment"
    }
   },
   "source": [
    "The **faces** of the $k$-simplex are the $k-1$-simplexes that make up its boundary. The boundary of the $k$-simplex (for $k > 0$) is the subset of the $k$-simplex where at least one of the coordinates $x_i$ is equal to $0$."
   ]
  },
  {
   "cell_type": "markdown",
   "metadata": {
    "slideshow": {
     "slide_type": "fragment"
    }
   },
   "source": [
    "An orientation of a k-simplex K is an ordering of the 0-simplexes in K, written as (v0,...,vk). We say that two orientations are the same if they differ by an even permutation. This means that any k-simplex for k>0 has exactly two orientations. A 0-simplex has only one orientation."
   ]
  },
  {
   "cell_type": "markdown",
   "metadata": {
    "slideshow": {
     "slide_type": "fragment"
    }
   },
   "source": [
    "<center>\n",
    "<img src='images/two_simplex_orientations.png' style=\"width: 50%;\">\n",
    "</center>"
   ]
  },
  {
   "cell_type": "markdown",
   "metadata": {
    "slideshow": {
     "slide_type": "subslide"
    }
   },
   "source": [
    "# Simplicial complexes"
   ]
  },
  {
   "cell_type": "markdown",
   "metadata": {
    "slideshow": {
     "slide_type": "fragment"
    }
   },
   "source": [
    "A simplicial complex is, roughly, a collection of simplexes that have been \"glued together\" in way that follows a few rules. A simplicial complex $K$ is a set of simplexes that satisfies\n",
    "\n",
    "1. Any face of $K$ is also in $K$\n",
    "2. The intersection of any two simplexes $\\sigma_{1},\\sigma_{2}\\in K$ is a face of both $\\sigma_{1}$ and $\\sigma_{2}$."
   ]
  },
  {
   "cell_type": "markdown",
   "metadata": {
    "slideshow": {
     "slide_type": "fragment"
    }
   },
   "source": [
    "Intuitively, we can think of building $K$ by iteratively glueing a face of a $k$-simplex to a $k-1$-simplex. So a $1$-simplex can be glued to a $0$-simplex at one--or both-- of its endpoints, a $2$-simplex can be glued to a $1$-simplex along one of its edges, and so on."
   ]
  },
  {
   "cell_type": "markdown",
   "metadata": {
    "slideshow": {
     "slide_type": "fragment"
    }
   },
   "source": [
    "<center>\n",
    "<img src=\"images/simplicial_complex_example.png\" style=\"margin-top: 30px; margin-bottom: 30px; width: 50%;\">\n",
    "</center>"
   ]
  },
  {
   "cell_type": "markdown",
   "metadata": {
    "slideshow": {
     "slide_type": "slide"
    }
   },
   "source": [
    "# Simplicial homology: simplexes and chains"
   ]
  },
  {
   "cell_type": "markdown",
   "metadata": {
    "slideshow": {
     "slide_type": "fragment"
    }
   },
   "source": [
    "<p style='font-size: 30px;'>For a simplicial complex $S$, and an integer $k ≥ 0$, denote by $S_k$ the collection of all sets in $S$ with exactly $k+1$ elements. We call $S_k$ the $\\textit{k-simplexes}$ of $S$.</p>"
   ]
  },
  {
   "cell_type": "markdown",
   "metadata": {
    "slideshow": {
     "slide_type": "fragment"
    }
   },
   "source": [
    "<center>\n",
    "<img src='images/simplex_s_and_s0_s1.png' width=600>\n",
    "</center>    "
   ]
  },
  {
   "cell_type": "markdown",
   "metadata": {
    "slideshow": {
     "slide_type": "slide"
    }
   },
   "source": [
    "# Simplicial homology: simplexes and chains"
   ]
  },
  {
   "cell_type": "markdown",
   "metadata": {
    "slideshow": {
     "slide_type": "fragment"
    }
   },
   "source": [
    "<p style='font-size: 30px;'>Denote by $C_k$ the collection of all finite linear combinations of elements of $S_k$ with coefficients in the integers. We call $C_k$ the $k-chains$ of $S$.</p>"
   ]
  },
  {
   "cell_type": "markdown",
   "metadata": {
    "slideshow": {
     "slide_type": "fragment"
    }
   },
   "source": [
    "<p style='font-size: 25px;'>$3·\\{1, 2\\} + 1·\\{2, 3\\} - 7·\\{1, 3\\} \\hspace{3pt}$ is an element of $C_1$.</p>"
   ]
  },
  {
   "cell_type": "markdown",
   "metadata": {
    "slideshow": {
     "slide_type": "fragment"
    }
   },
   "source": [
    "<p style='font-size: 25px;'>\n",
    "$\n",
    "\\big(3·\\{1, 2\\} + 1·\\{2, 3\\} - 7·\\{1, 3\\}\\big) + \\big(-4·\\{1, 2\\} + 7·\\{1, 3\\}\\big) = -1·\\{1, 2\\} + 1·\\{2, 3\\} \\hspace{5pt}\n",
    "$\n",
    "</p>"
   ]
  },
  {
   "cell_type": "markdown",
   "metadata": {
    "slideshow": {
     "slide_type": "slide"
    }
   },
   "source": [
    "# Simplicial homology: boundary maps"
   ]
  },
  {
   "cell_type": "markdown",
   "metadata": {
    "slideshow": {
     "slide_type": "fragment"
    }
   },
   "source": [
    "There are maps $\\partial_k: C_k \\rightarrow C_{k-1}$  called **boundary maps** ($\\partial_k$ is the $k-boundary$ map)."
   ]
  },
  {
   "cell_type": "markdown",
   "metadata": {
    "slideshow": {
     "slide_type": "fragment"
    }
   },
   "source": [
    "$\\partial_k$ sends the $k$-simplex $\\sigma = \\{\\sigma_0, \\sigma_1,...,\\sigma_k\\} \\hspace{3pt}$ to\n",
    "\n",
    "$$\n",
    "\\partial_k(\\sigma) = \\sum_{i=0}^k(-1)^i\\{\\sigma_0,...,\\sigma_{i-1}, \\sigma_{i+1},...,\\sigma_k\\}\n",
    "$$"
   ]
  },
  {
   "cell_type": "markdown",
   "metadata": {
    "slideshow": {
     "slide_type": "fragment"
    }
   },
   "source": [
    "Example: $\\hspace{5pt} \\partial_2\\big(\\{1, 2, 3\\}\\big) = \\{2, 3\\} - \\{1, 3\\} + \\{1, 2\\}$"
   ]
  },
  {
   "cell_type": "markdown",
   "metadata": {
    "slideshow": {
     "slide_type": "slide"
    }
   },
   "source": [
    "# Simplicial homology: chain complex"
   ]
  },
  {
   "cell_type": "markdown",
   "metadata": {
    "slideshow": {
     "slide_type": "fragment"
    }
   },
   "source": [
    "<p style='font-size: 30px;'>The boundary maps give us the **chain complex**\n",
    "\n",
    "$$\n",
    "    \\cdots \\xrightarrow{\\partial_{k+1}} C_k \\xrightarrow{\\partial_k} C_{k-1} \\xrightarrow{\\partial_{k-1}} C_{k-2} \\xrightarrow{\\partial_{k-2}} \\cdots \\xrightarrow{\\partial_3} C_2 \\xrightarrow{\\partial_2} C_1 \\xrightarrow{\\partial_1} C_0 \\xrightarrow{\\partial_0} 0\n",
    "$$\n",
    "</p>"
   ]
  },
  {
   "cell_type": "markdown",
   "metadata": {
    "slideshow": {
     "slide_type": "fragment"
    }
   },
   "source": [
    "<p style='font-size: 30px;'>Important: $\\partial_{k-1} \\circ \\partial_k = 0$</p>"
   ]
  },
  {
   "cell_type": "markdown",
   "metadata": {
    "slideshow": {
     "slide_type": "fragment"
    }
   },
   "source": [
    "<p style='font-size: 30px;'>\n",
    "$$\n",
    "\\begin{align}\n",
    "\\partial_1\\Big(\\partial_2\\big(\\{1, 2, 3\\}\\big)\\Big) \n",
    "&= \\partial_1\\big(\\{2, 3\\} - \\{1, 3\\} + \\{1, 2\\}\\big) \\\\ \n",
    "&= \\partial_1\\big(\\{2, 3\\}\\big) - \\partial_1\\big(\\{1, 3\\}\\big) + \\partial_1\\big(\\{1, 2\\}\\big) \\\\ \n",
    "& = \\{3\\} - \\{2\\} - \\big(\\{3\\} - \\{1\\}\\big) + \\{2\\} - \\{1\\} \\\\ \n",
    "& = 0\n",
    "\\end{align}\n",
    "$$\n",
    "</p>"
   ]
  },
  {
   "cell_type": "markdown",
   "metadata": {
    "slideshow": {
     "slide_type": "slide"
    }
   },
   "source": [
    "# Simplicial homology"
   ]
  },
  {
   "cell_type": "markdown",
   "metadata": {
    "slideshow": {
     "slide_type": "fragment"
    }
   },
   "source": [
    "<p style='font-size: 30px;'>The elements of the image of $\\partial_k$ in $C_{k-1}$, $Im(\\partial_k)$, are called **$k$-boundaries**.</p>"
   ]
  },
  {
   "cell_type": "markdown",
   "metadata": {
    "slideshow": {
     "slide_type": "fragment"
    }
   },
   "source": [
    "<p style='font-size: 30px;'>\n",
    "All elements of $C_k$ that are mapped to zero in $C_{k-1}$ by $\\partial_k$ are called **$k$-cycles**. The $k$-cycles in $C_k$ are denoted by $Ker(\\partial_k)$; i.e. $k$-cycles are elements of the kernel of $\\partial_k$.\n",
    "</p>"
   ]
  },
  {
   "cell_type": "markdown",
   "metadata": {
    "slideshow": {
     "slide_type": "fragment"
    }
   },
   "source": [
    "<p style='font-size: 30px;'>The relation $\\partial_{k-1} \\circ \\partial_k = 0$ is equivalent to $Im(\\partial_k) \\subseteq Ker(\\partial_{k-1})$"
   ]
  },
  {
   "cell_type": "markdown",
   "metadata": {
    "slideshow": {
     "slide_type": "subslide"
    }
   },
   "source": [
    "# Simplicial homology "
   ]
  },
  {
   "cell_type": "markdown",
   "metadata": {
    "slideshow": {
     "slide_type": "fragment"
    }
   },
   "source": [
    "## Example: cycle that is not a boundary\n",
    "\n",
    "<img src='images/example_cycle_not_boundary.png' width=600>\n",
    "\n",
    "<p style='font-size: 30px;'>\n",
    "Cycle of $S$: $\\partial_1\\big(\\{1, 2\\} + \\{2, 3\\} - \\{1, 3\\}\\big) = \\{2\\} - \\{1\\} + \\{3\\} - \\{2\\} - \\big(\\{3\\} - \\{1\\}\\big) = 0$\n",
    "</p>\n",
    "<p style='font-size: 30px;'>\n",
    "Note that $\\{1, 2\\} + \\{2, 3\\} - \\{1, 3\\} \\hspace{3pt}$ is not a boundary (there are no 2-simplexes in $S$).\n",
    "</p>"
   ]
  },
  {
   "cell_type": "markdown",
   "metadata": {
    "slideshow": {
     "slide_type": "subslide"
    }
   },
   "source": [
    "# Simplicial homology"
   ]
  },
  {
   "cell_type": "markdown",
   "metadata": {
    "slideshow": {
     "slide_type": "fragment"
    }
   },
   "source": [
    "The **$k^{th}$ homology group** of $S$ is defined to be\n",
    "\n",
    "$$\n",
    "H_k(S) = Ker(\\partial_k) / Im(\\partial_{k+1})\n",
    "$$"
   ]
  },
  {
   "cell_type": "markdown",
   "metadata": {
    "slideshow": {
     "slide_type": "fragment"
    }
   },
   "source": [
    "Informally, $H_k(S)$ is “the $k$-cycles of $S$ up to a boundary of a $k+1$-chain”"
   ]
  },
  {
   "cell_type": "markdown",
   "metadata": {
    "slideshow": {
     "slide_type": "slide"
    }
   },
   "source": [
    "# Simplicial homology: examples"
   ]
  },
  {
   "cell_type": "markdown",
   "metadata": {
    "slideshow": {
     "slide_type": "fragment"
    }
   },
   "source": [
    "<img src='images/disjointed_simplex.png' width=150>"
   ]
  },
  {
   "cell_type": "markdown",
   "metadata": {
    "slideshow": {
     "slide_type": "fragment"
    }
   },
   "source": [
    "<p style='font-size: 20px;'>\n",
    "$$\n",
    "\\cdots \\xrightarrow{\\partial_2} C_1 \\xrightarrow{\\partial_1} \\color{#449CED}{C_0} \\xrightarrow{\\partial_0} 0\n",
    "\\\\[20pt]\n",
    "$$\n",
    "\n",
    "\\begin{multline}\n",
    "\\shoveleft\n",
    "\\begin{aligned}\n",
    "&C_0 = \\mathbb{Z}\\langle \\{1\\}, \\{2\\}, \\{3\\} \\rangle \\hspace{30pt}  && Ker\\partial_0 = C_0 \\hspace{30pt} & H_0 = Ker\\partial_0 / Im\\partial_1 \\\\\n",
    "&C_1 = \\mathbb{Z} \\langle \\{1, 2\\} \\rangle  \\hspace{30pt} && Ker\\partial_1 = \\langle \\{2\\} - \\{1\\} \\rangle\n",
    "\\end{aligned}\n",
    "\\end{multline}\n",
    "</p>"
   ]
  },
  {
   "cell_type": "markdown",
   "metadata": {
    "slideshow": {
     "slide_type": "fragment"
    }
   },
   "source": [
    "<p style='font-size: 20px;'>\n",
    "\\begin{multline}\n",
    "\\shoveleft\n",
    "\\begin{aligned}\n",
    "& \\{1\\} = \\{2\\} - [\\{2\\} - \\{1\\}] = \\{2\\} - \\partial_1(\\{1, 2\\})\\\\\n",
    "& \\text{So  } \\{1\\} \\equiv \\{2\\} \\text{   in   } H_0 \\\\\n",
    "& H_0 = \\mathbb{Z} \\langle \\{1\\} \\rangle \\times \\mathbb{Z}\\langle \\{2 \\} \\rangle \\equiv \\mathbb{Z} \\times \\mathbb{Z} \n",
    "\\end{aligned}\n",
    "\\end{multline}\n",
    "</p>\n"
   ]
  },
  {
   "cell_type": "markdown",
   "metadata": {
    "slideshow": {
     "slide_type": "fragment"
    }
   },
   "source": [
    "<p style='font-size: 20px;'>\n",
    "\\begin{multline}\n",
    "\\shoveleft\n",
    "\\begin{aligned}\n",
    "H_0 \\text{ represents the number of connected components of the simplicial complex.}\n",
    "\\end{aligned}\n",
    "\\end{multline}\n",
    "</p>"
   ]
  },
  {
   "cell_type": "markdown",
   "metadata": {
    "slideshow": {
     "slide_type": "slide"
    }
   },
   "source": [
    "# Simplicial homology: examples"
   ]
  },
  {
   "cell_type": "markdown",
   "metadata": {
    "slideshow": {
     "slide_type": "fragment"
    }
   },
   "source": [
    "<img src='images/triangle_1_simplexes.png' width=150>"
   ]
  },
  {
   "cell_type": "markdown",
   "metadata": {
    "slideshow": {
     "slide_type": "fragment"
    }
   },
   "source": [
    "<p style='font-size: 20px'>\n",
    "$$\n",
    "\\cdots \\xrightarrow{\\partial_3} C_2 \\xrightarrow{\\partial_2} \\color{#449CED}{C_1} \\xrightarrow{\\partial_1} C_0 \\xrightarrow{\\partial_0} 0\n",
    "\\\\[20pt]\n",
    "$$\n",
    "\n",
    "\\begin{multline}\n",
    "\\shoveleft\n",
    "\\begin{aligned}\n",
    "& C_0 = \\mathbb{Z}\\langle \\{1\\}, \\{2\\}, \\{3\\} \\rangle \\hspace{30pt}  && Ker\\partial_0 = \\mathbb{Z}\\langle \\{1, 2\\} + \\{2, 3\\} - \\{1, 3\\} \\rangle \\hspace{30pt}  \\\\\n",
    "& C_1 = \\mathbb{Z} \\langle \\{1, 2\\}, \\{1, 3\\}, \\{2, 3\\} \\rangle  \\hspace{30pt} && Im\\partial_2 = 0 \\\\\n",
    "& C_2 = 0 \\hspace{30pt} \n",
    "\\end{aligned}\n",
    "\\end{multline}\n",
    "</p>"
   ]
  },
  {
   "cell_type": "markdown",
   "metadata": {
    "slideshow": {
     "slide_type": "fragment"
    }
   },
   "source": [
    "<p style='font-size: 20px'>\n",
    "\\begin{multline}\n",
    "\\shoveleft\n",
    "\\begin{aligned}\n",
    "&H_0 \\equiv \\mathbb{Z} \\\\\n",
    "&H_1 = Ker\\partial_1/Im\\partial_2 \\equiv \\mathbb{Z} \n",
    "\\end{aligned}\n",
    "\\end{multline}\n",
    "</p>"
   ]
  },
  {
   "cell_type": "markdown",
   "metadata": {
    "slideshow": {
     "slide_type": "fragment"
    }
   },
   "source": [
    "<p style='font-size: 20px'>\n",
    "\\begin{multline}\n",
    "\\shoveleft\n",
    "\\begin{aligned}\n",
    "H_1 \\text{ represents the number of 1 dimensional holes in the simplicial complex.}\n",
    "\\end{aligned}\n",
    "\\end{multline}\n",
    "</p>"
   ]
  },
  {
   "cell_type": "markdown",
   "metadata": {
    "slideshow": {
     "slide_type": "slide"
    }
   },
   "source": [
    "# Simplicial homology: examples"
   ]
  },
  {
   "cell_type": "markdown",
   "metadata": {
    "slideshow": {
     "slide_type": "fragment"
    }
   },
   "source": [
    "<img src='images/double_triangle.png' width=150 >"
   ]
  },
  {
   "cell_type": "markdown",
   "metadata": {
    "slideshow": {
     "slide_type": "fragment"
    }
   },
   "source": [
    "<p style='font-size: 20px;'>\n",
    "$$\n",
    "\\cdots \\xrightarrow{\\partial_3} C_2 \\xrightarrow{\\partial_2} \\color{#449CED}{C_1} \\xrightarrow{\\partial_1} C_0 \\xrightarrow{\\partial_0} 0\n",
    "\\\\[20pt]\n",
    "$$\n",
    "\n",
    "\n",
    "\\begin{multline}\n",
    "\\shoveleft\n",
    "\\begin{aligned}\n",
    "& C_0 = \\mathbb{Z}\\langle \\{1\\}, \\{2\\}, \\{3\\}, \\{4\\} \\rangle \\hspace{30pt}  \\\\\n",
    "& C_1 = \\mathbb{Z} \\langle \\{1, 2\\}, \\{1, 3\\}, \\{2, 3\\}, \\{2, 3\\}, \\{3, 4\\} \\rangle  \\hspace{30pt}\\\\\n",
    "& C_2 = \\mathbb{Z} \\langle \\{2, 3, 4\\} \\rangle \\hspace{30pt} \n",
    "\\end{aligned}\n",
    "\\end{multline}\n",
    "</p>"
   ]
  },
  {
   "cell_type": "markdown",
   "metadata": {
    "slideshow": {
     "slide_type": "fragment"
    }
   },
   "source": [
    "<p style='font-size: 20px;'>\n",
    "\\begin{multline}\n",
    "\\shoveleft\n",
    "\\begin{aligned}\n",
    "&Ker\\partial_1 = \\mathbb{Z} \\big\\langle \\left[\\{1, 2\\} + \\{2, 3\\} - \\{1, 3\\}\\right], \\hspace{5pt} \\left[\\{2, 3\\} + \\{3, 4\\} - \\{2, 4\\}\\right]   \\big\\rangle \\\\\n",
    "&Im\\partial_2  = \\mathbb{Z} \\langle \\{3, 4\\} - \\{2, 4\\} + \\{2, 3\\} \\rangle \\\\\n",
    "&H_1 = Ker\\partial_1/Im\\partial_2 \\equiv \\mathbb{Z} \\langle \\{1, 2\\} + \\{2, 3\\} - \\{1, 3\\}  \\rangle\n",
    "\\end{aligned}\n",
    "\\end{multline}\n",
    "</p>"
   ]
  },
  {
   "cell_type": "markdown",
   "metadata": {
    "slideshow": {
     "slide_type": "slide"
    }
   },
   "source": [
    "# Topological data analysis (TDA)"
   ]
  },
  {
   "cell_type": "markdown",
   "metadata": {
    "slideshow": {
     "slide_type": "fragment"
    }
   },
   "source": [
    "One branch of TDA takes a dataset in $\\mathbb{R}^n$ (typically called a **point cloud**) and associates to it a sequence of simplicial complexes. We then find the homology groups of each simplicial complex in this sequence."
   ]
  },
  {
   "cell_type": "markdown",
   "metadata": {
    "slideshow": {
     "slide_type": "subslide"
    }
   },
   "source": [
    "# Topological data analysis (TDA)"
   ]
  },
  {
   "cell_type": "markdown",
   "metadata": {
    "slideshow": {
     "slide_type": "fragment"
    }
   },
   "source": [
    "Let $X$ be our data set (point cloud). For each $\\epsilon > 0$, we construct a simplicial complex $S$ as follows. Let \n",
    "\n",
    "$$\n",
    "S^{\\epsilon}_0 = \\big\\{ \\{p\\} : p ∈ X \\big\\}\n",
    "$$ "
   ]
  },
  {
   "cell_type": "markdown",
   "metadata": {
    "slideshow": {
     "slide_type": "fragment"
    }
   },
   "source": [
    "$$\n",
    "S^{\\epsilon}_k = \\big\\{ \\{p_1, p_2,..., p_{k+1}\\} \\mid p_i \\in X \\hspace{4pt} \\text{and} \\hspace{4pt} |p_i - p_j| < \\epsilon \\hspace{4pt} \\text{for every} \\hspace{4pt} i, j \\big\\}\n",
    "$$"
   ]
  },
  {
   "cell_type": "markdown",
   "metadata": {
    "slideshow": {
     "slide_type": "fragment"
    }
   },
   "source": [
    "$$S^{\\epsilon} = \\bigcup S^{\\epsilon}_k$$"
   ]
  },
  {
   "cell_type": "markdown",
   "metadata": {
    "slideshow": {
     "slide_type": "fragment"
    }
   },
   "source": [
    "The colletion $\\{S^{\\epsilon} \\mid \\epsilon > 0\\}$ is called the **Vietoris-Rips filtration** (or sometimes just the **Rips filtration**)."
   ]
  },
  {
   "cell_type": "markdown",
   "metadata": {
    "slideshow": {
     "slide_type": "subslide"
    }
   },
   "source": [
    "# Persistent homology\n",
    "\n",
    "<img src='images/noisy_circle_simplexes_and_persistent_homology.png' style='margin: 0 auto;' width=900>"
   ]
  },
  {
   "cell_type": "markdown",
   "metadata": {
    "slideshow": {
     "slide_type": "subslide"
    }
   },
   "source": [
    "# ~~Persistent homology~~ Betti numbers\n",
    "\n",
    "<img src='images/noisy_circle_simplexes_and_betti_sequence.png' style='margin: 0 auto;' width=900>\n",
    "\n",
    "<div style='font-size: 30px;'>\n",
    "<ul>\n",
    "<li>The $k^{th}$ Betti number of the simplicial complex $S$ is the rank&ast; of the $k^{th}$ homology group $H_k(S)$: $\\beta_k$.</li>\n",
    "<li>*&ast;Think number of vectors in a basis for $H_k(S)$*</li>\n",
    "<li>Note that here $0 ≤ k < 2$.</li>\n",
    "</ul>\n",
    "</div>"
   ]
  },
  {
   "cell_type": "markdown",
   "metadata": {
    "slideshow": {
     "slide_type": "subslide"
    }
   },
   "source": [
    "# ~~Persistent homology~~ Betti numbers"
   ]
  },
  {
   "cell_type": "markdown",
   "metadata": {
    "slideshow": {
     "slide_type": "fragment"
    }
   },
   "source": [
    "Using Betti numbers, we can assign to a data set a matrix of integers of dimension $n \\times d$\n",
    "Where $n$ is the number of different choices for $\\epsilon$, and $d$ is the dimension of the data.\n",
    "\n",
    "<img src='images/point_cloud_to_betti_matrix.png' width=500 style='margin: 0 auto;'>"
   ]
  },
  {
   "cell_type": "markdown",
   "metadata": {
    "slideshow": {
     "slide_type": "subslide"
    }
   },
   "source": [
    "# ~~Persistent homology~~ Betti numbers"
   ]
  },
  {
   "cell_type": "markdown",
   "metadata": {
    "slideshow": {
     "slide_type": "fragment"
    }
   },
   "source": [
    "<img src='images/point_cloud_to_betti_graphs.png' style='margin: 0 auto;'>"
   ]
  },
  {
   "cell_type": "markdown",
   "metadata": {
    "slideshow": {
     "slide_type": "slide"
    }
   },
   "source": [
    "# TDA and time series data\n",
    "### Time delay embedding"
   ]
  },
  {
   "cell_type": "markdown",
   "metadata": {
    "slideshow": {
     "slide_type": "fragment"
    }
   },
   "source": [
    "<p style='font-size: 30px'>If we have a time series $T = \\{t_1, t_2,...,t_N\\} $, we can construct a point cloud for $k > 1$ as the $(N-k) \\times k$ dimensional matrix whose $i^{th}$ row is $(t_i, t_{i+1}, \\ldots, t_{k+i-1}, t_{k+i})$, for $1 \\leq i \\leq N-k$. We call this the **time delay embedding** for the time series $T$, and $k$ the **embedding dimension**. </p>\n",
    "\n",
    "<p style='font-size: 30px'>This gives a point cloud in $\\mathbb{R}^k.$\n",
    "</p>"
   ]
  },
  {
   "cell_type": "markdown",
   "metadata": {
    "slideshow": {
     "slide_type": "fragment"
    }
   },
   "source": [
    "<img src='images/time_delay_to_betti_matrix.png' width=800 style='margin: 0 auto;'>"
   ]
  },
  {
   "cell_type": "markdown",
   "metadata": {
    "slideshow": {
     "slide_type": "subslide"
    }
   },
   "source": [
    "# TDA and time series data\n",
    "\n",
    "<img src='images/tda_process_diagram.png' width=1100 style='margin: 0 auto;'>"
   ]
  },
  {
   "cell_type": "markdown",
   "metadata": {
    "slideshow": {
     "slide_type": "subslide"
    }
   },
   "source": [
    "# TDA and time series data"
   ]
  },
  {
   "cell_type": "markdown",
   "metadata": {
    "slideshow": {
     "slide_type": "fragment"
    }
   },
   "source": [
    "<p style='font-size: 30px'>From the Betti matrix $\\{\\beta^{\\epsilon_i}_{k}\\}$, we can form the **Betti sum** \n",
    "$$\n",
    "\\pmb{\\beta} = \\sum \\beta_k^{\\epsilon_i}\n",
    "$$\n",
    "</p>"
   ]
  },
  {
   "cell_type": "markdown",
   "metadata": {
    "slideshow": {
     "slide_type": "fragment"
    }
   },
   "source": [
    "<p style='font-size: 30px'>For a time series ${t_1, t_2,..., t_N}$ we can calculate $\\pmb{\\beta}$ over a rolling window of length $w$ to get $\\{ \\pmb{\\beta_j} : w ≤ j ≤ N\\}$</p>"
   ]
  },
  {
   "cell_type": "markdown",
   "metadata": {
    "slideshow": {
     "slide_type": "fragment"
    }
   },
   "source": [
    "<img src=\"images/noisy_sine_betti_sum.png\" style='margin: 0 auto;'>"
   ]
  },
  {
   "cell_type": "markdown",
   "metadata": {
    "slideshow": {
     "slide_type": "slide"
    }
   },
   "source": [
    "# Exmples and applications"
   ]
  },
  {
   "cell_type": "markdown",
   "metadata": {
    "slideshow": {
     "slide_type": "subslide"
    }
   },
   "source": [
    "# TDA and time series data: example of increasing randomness"
   ]
  },
  {
   "cell_type": "markdown",
   "metadata": {
    "slideshow": {
     "slide_type": "fragment"
    }
   },
   "source": [
    "<center><img src=\"images/tda_random_example_code.png\"></center>\n",
    "<img src=\"images/increasing_randomness_tda_example.png\" style='margin: 0 auto;' width=1300>"
   ]
  },
  {
   "cell_type": "markdown",
   "metadata": {
    "slideshow": {
     "slide_type": "fragment"
    }
   },
   "source": [
    "<p style='font-size: 35px;'>As the time series becomes more random, the Betti sum increases.</p>"
   ]
  },
  {
   "cell_type": "markdown",
   "metadata": {
    "slideshow": {
     "slide_type": "slide"
    }
   },
   "source": [
    "# Financial time series: signals of crashes\n",
    "<p style='font-size: 15px;'>\n",
    "Gidea & Katz; *Topological Data Analysis of Financial Time Series: Landscapes of Crashes*\n",
    "</p>\n",
    "\n",
    "- <p style='font-size: 20px'>Use variant of Betti sum ($L^2$-norm of persistence landscape) to build heuristic</p>\n",
    "- <p style='font-size: 20px'>Argue this heuristic can be used as a measure of \"how chaotic\" a time series is</p>\n",
    "- <p style='font-size: 20px'>Use this heuristic to analyze four stock indexes: S&P500, DJIA, NASDAQ, and Russel 2000</p>\n",
    "- <p style='font-size: 20px'>The graph of the heuristic over time is shown below, and two large peaks can be seen before the economic crashes of 2000 and 2008</p>"
   ]
  },
  {
   "cell_type": "markdown",
   "metadata": {
    "slideshow": {
     "slide_type": "fragment"
    }
   },
   "source": [
    "<center>\n",
    "<img src='images/gidea_katz_finance_tda.png' width=800 style='margin-top: -20px;'>\n",
    "</center>"
   ]
  },
  {
   "cell_type": "markdown",
   "metadata": {
    "slideshow": {
     "slide_type": "slide"
    }
   },
   "source": [
    "# Time series classification\n",
    "<p style='font-size: 15px;'>Umeda; *Time series classification via Topological Data Analysis*\n",
    "</p>\n",
    "\n",
    "- <p style='font-size: 20px;'>Architects classification CNN for time series using Betti numbers as features</p>\n",
    "- <p style='font-size: 20px;'>Data included gyro sensor activity, EEG, EMG Human Activity Dataset</p>\n",
    "- <p style='font-size: 20px;'>Method outlined out-performs other methods including SVM+classical features, DTW+1-NN, SVM+Betti numbers</p>"
   ]
  },
  {
   "cell_type": "markdown",
   "metadata": {
    "slideshow": {
     "slide_type": "fragment"
    }
   },
   "source": [
    "<center>\n",
    "<img src='images/umeda_architecture.png'>\n",
    "</center>"
   ]
  },
  {
   "cell_type": "markdown",
   "metadata": {
    "slideshow": {
     "slide_type": "slide"
    }
   },
   "source": [
    "# TDA libraries"
   ]
  },
  {
   "cell_type": "markdown",
   "metadata": {
    "slideshow": {
     "slide_type": "fragment"
    }
   },
   "source": [
    "- [Dionysus2](http://www.mrzv.org/software/dionysus2/) (C++ with Python bindings)\n",
    "- [Ripser](https://github.com/Ripser/ripser) (C++ with Python bindings)\n",
    "- [TDA](https://cran.r-project.org/web/packages/TDA/index.html) (R)\n",
    "- [Javaplex](https://github.com/appliedtopology/javaplex) (Java)\n",
    "- [GUDHI](http://gudhi.gforge.inria.fr/python/latest/) (Python)\n",
    "- [PHAT](https://bitbucket.org/phat-code/phat) (Python)\n",
    "- [DIPHA](https://github.com/DIPHA/dipha) (C++)\n",
    "- [Perseus](http://people.maths.ox.ac.uk/nanda/perseus/index.html) (C++)"
   ]
  },
  {
   "cell_type": "markdown",
   "metadata": {
    "slideshow": {
     "slide_type": "slide"
    }
   },
   "source": [
    "# Takeaways\n",
    "- ### The $n^{th}$ homology group counts the number of \"$n$ dimensional holes\" in a space\n",
    "- ### TDA offers a unique and useful way of generating features for time series data; i.e. Betti numbers\n",
    "- ### Intuition: Betti numbers encode information about \"how chaotic\" the time series is"
   ]
  },
  {
   "cell_type": "markdown",
   "metadata": {
    "slideshow": {
     "slide_type": "slide"
    }
   },
   "source": [
    "# References\n",
    "- Allen Hatcher; *Algebraic Topology* https://www.math.cornell.edu/~hatcher/AT/AT.pdf\n",
    "- Carlsson & Zomorodian; *Computing Persistent Homology* https://geometry.stanford.edu/papers/zc-cph-05/zc-cph-05.pdf\n",
    "- Gidea & Katz; *Topological Data Analysis of Financial Time Series: Landscapes of Crashes* https://arxiv.org/pdf/1703.04385.pdf\n",
    "- Umeda; *Time series classification via Topological Data Analysis* https://www.jstage.jst.go.jp/article/tjsai/32/3/32_D-G72/_pdf"
   ]
  },
  {
   "cell_type": "markdown",
   "metadata": {
    "slideshow": {
     "slide_type": "slide"
    }
   },
   "source": [
    "# Image credits\n",
    "<ul style='font-size: 20px;'>\n",
    "<li>Sphere: https://www.wikiwand.com/en/Sphere </li>\n",
    "<li>Trefiol knot: https://theinnerframe.wordpress.com/tag/trefoil-knot/ </li>\n",
    "<li>Mug-torus gif: https://www.wikiwand.com/en/Topology </li>\n",
    "<li>Blue mug: https://everystore.com/Room-Essentials-Coupe-White-Coffee-Mug-603286449.html </li>\n",
    "<li>Lorenz attractor: https://commons.wikimedia.org/wiki/File:Lorenz_attractor.svg </li>\n",
    "<li>Mandelbrot set: https://www.cs.princeton.edu/~wayne/mandel/mandel.html </li>\n",
    "<li>Torus: https://commons.wikimedia.org/wiki/File:Torus_illustration.png </li>\n",
    "<li>Double torus: https://www.wikiwand.com/en/Genus-two_surface </li>\n",
    "<li>Financial landscape plot from Gidea & Katz paper referenced: https://arxiv.org/pdf/1703.04385.pdf  </li>\n",
    "<li>Architecture for TDA+CNN classifier from Umeda paper referenced: https://www.jstage.jst.go.jp/article/tjsai/32/3/32_D-G72/_pdf </li>\n",
    "</ul>"
   ]
  },
  {
   "cell_type": "code",
   "execution_count": null,
   "metadata": {},
   "outputs": [],
   "source": []
  }
 ],
 "metadata": {
  "celltoolbar": "Slideshow",
  "kernelspec": {
   "display_name": "Python 3",
   "language": "python",
   "name": "python3"
  },
  "language_info": {
   "codemirror_mode": {
    "name": "ipython",
    "version": 3
   },
   "file_extension": ".py",
   "mimetype": "text/x-python",
   "name": "python",
   "nbconvert_exporter": "python",
   "pygments_lexer": "ipython3",
   "version": "3.6.5"
  }
 },
 "nbformat": 4,
 "nbformat_minor": 2
}
